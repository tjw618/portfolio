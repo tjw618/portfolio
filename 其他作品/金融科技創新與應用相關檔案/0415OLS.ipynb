{
 "cells": [
  {
   "cell_type": "code",
   "execution_count": 1,
   "id": "5933efc0-b887-4d5c-a398-7b63eef09d8f",
   "metadata": {},
   "outputs": [],
   "source": [
    "import os\n",
    "import pandas as pd\n",
    "import numpy as np\n",
    "import openpyxl\n",
    "\n",
    "#==========================================================\n",
    "'''        讀入數據        '''\n",
    "IC = pd.read_excel('OLS.xlsx', sheet_name=\"預測IC\").T\n",
    "IC = np.array(IC.iloc[2:,1:4])\n",
    "\n",
    "#讀取 bm（bm補值、下個月月報酬補值）\n",
    "bm = pd.read_excel('bm.xlsx', sheet_name=\"bm補值\").T\n",
    "# 2013/12~2025/01\n",
    "bm = np.array(bm.iloc[181:,:])\n",
    "bm_ret = pd.read_excel('bm.xlsx', sheet_name=\"下個月月報酬補值\").T\n",
    "bm_ret = np.array(bm_ret.iloc[181:,:])\n",
    "\n",
    "#讀取 size（size補值、下個月月報酬補值）\n",
    "size = pd.read_excel('size.xlsx', sheet_name=\"size補值\").T\n",
    "# 2013/12~2025/01\n",
    "size = np.array(size.iloc[181:,:])\n",
    "size_ret = pd.read_excel('size.xlsx', sheet_name=\"下個月月報酬補值\").T\n",
    "size_ret = np.array(size_ret.iloc[181:,:])\n",
    "\n",
    "#讀取 mom（mom補值、下個月月報酬補值）\n",
    "mom = pd.read_excel('mom.xlsx', sheet_name=\"mom補值\").T\n",
    "# 2013/12~2025/01\n",
    "mom = np.array(mom.iloc[169:,:])\n",
    "mom_ret = pd.read_excel('mom.xlsx', sheet_name=\"下個月月報酬補值\").T\n",
    "mom_ret = np.array(mom_ret.iloc[169:,:])\n",
    "#==========================================================\n"
   ]
  },
  {
   "cell_type": "code",
   "execution_count": 3,
   "id": "f0f64c40-67e5-4aad-bb30-8fd823f9d11e",
   "metadata": {},
   "outputs": [],
   "source": [
    "\"\"\" 計算 Return \"\"\"\n",
    "# 讀取或建立 Excel 檔案\n",
    "workbook = openpyxl.load_workbook(\"OLS.xlsx\")  # 如果檔案不存在，請先建立\n",
    "sheet = workbook[\"預測IC\"]  # 選擇工作表\n",
    "\n",
    "# 2013/12~2025/01\n",
    "for n in range(134):\n",
    "    c = pd.DataFrame()\n",
    "    sel_index = np.argmax(abs(IC[n]))\n",
    "    sel_value = IC[n][sel_index]\n",
    "\n",
    "    # 選擇因子與報酬\n",
    "    if sel_index == 0:\n",
    "        fac, sel, ret = bm[n], 'bm', bm_ret[n]\n",
    "    elif sel_index == 1:\n",
    "        fac, sel, ret = size[n], 'size', size_ret[n]\n",
    "    elif sel_index == 2:\n",
    "        fac, sel, ret = mom[n], 'mom', mom_ret[n]\n",
    "\n",
    "    c['factor'] = fac\n",
    "    c['return'] = ret\n",
    "    c['rank'] = c['factor'].rank(method='max')\n",
    "\n",
    "    c = c.sort_values(by='rank')\n",
    "\n",
    "    row = [11,12,13,14,15,16,17,18,19,20,21,22,23,24]\n",
    "    group = [185,92,37,18,10,9,8,7,6,5,4,3,2,1]\n",
    "\n",
    "    for r, g in zip(row, group):\n",
    "        high = np.mean(c['return'].iloc[-g:])\n",
    "        low = np.mean(c['return'].iloc[:g])\n",
    "        ans = high - low if sel_value > 0 else low - high\n",
    "        sheet.cell(row=r, column=n+3, value=ans)\n",
    "\n",
    "# 儲存 Excel\n",
    "workbook.save('OLS.xlsx')\n"
   ]
  },
  {
   "cell_type": "code",
   "execution_count": null,
   "id": "ccb448c0-c5e3-4881-acce-96bb127fdf9f",
   "metadata": {},
   "outputs": [],
   "source": []
  }
 ],
 "metadata": {
  "kernelspec": {
   "display_name": "Python 3 (ipykernel)",
   "language": "python",
   "name": "python3"
  },
  "language_info": {
   "codemirror_mode": {
    "name": "ipython",
    "version": 3
   },
   "file_extension": ".py",
   "mimetype": "text/x-python",
   "name": "python",
   "nbconvert_exporter": "python",
   "pygments_lexer": "ipython3",
   "version": "3.12.7"
  }
 },
 "nbformat": 4,
 "nbformat_minor": 5
}
